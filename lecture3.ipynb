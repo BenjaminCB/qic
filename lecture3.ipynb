{
 "cells": [
  {
   "cell_type": "code",
   "execution_count": 56,
   "id": "3087d676-9f4b-4c7b-a899-21d52bdb1423",
   "metadata": {},
   "outputs": [],
   "source": [
    "# Import tools\n",
    "from qiskit import QuantumCircuit, assemble, Aer, execute\n",
    "from qiskit.visualization import plot_histogram, plot_bloch_vector\n",
    "from math import sqrt, pi\n",
    "\n",
    "# Create a quantum circuit with one qubit\n",
    "qc = QuantumCircuit(1)"
   ]
  },
  {
   "cell_type": "code",
   "execution_count": 3,
   "id": "746b8198-9d01-4664-a290-437ed09ff0dc",
   "metadata": {},
   "outputs": [
    {
     "data": {
      "image/png": "[encoded data removed]",
      "text/plain": [
       "<Figure size 185.453x117.056 with 1 Axes>"
      ]
     },
     "execution_count": 3,
     "metadata": {},
     "output_type": "execute_result"
    }
   ],
   "source": [
    "# Define initial_state as |0> ; apply initialisation to the 0th qubit ; draw circuit\n",
    "initial_state = [1, 0]\n",
    "qc.initialize(initial_state, 0)\n",
    "qc.draw('mpl')"
   ]
  },
  {
   "cell_type": "code",
   "execution_count": 4,
   "id": "ae67e87b-be86-4f3a-aba2-db802633dabe",
   "metadata": {},
   "outputs": [
    {
     "data": {
      "image/png": "[encoded data removed]",
      "text/plain": [
       "<Figure size 269.064x117.056 with 1 Axes>"
      ]
     },
     "execution_count": 4,
     "metadata": {},
     "output_type": "execute_result"
    }
   ],
   "source": [
    "# Define initial_state as |1> ; apply initialisation to the 0th qubit ; draw circuit\n",
    "initial_state = [0, 1]\n",
    "qc.initialize(initial_state, 0)\n",
    "qc.draw('mpl')"
   ]
  },
  {
   "cell_type": "code",
   "execution_count": 21,
   "id": "55b0ad26-c887-410a-afe9-955fc443ab41",
   "metadata": {},
   "outputs": [],
   "source": [
    "import numpy as np\n",
    "import cmath\n",
    "import matplotlib as plt"
   ]
  },
  {
   "cell_type": "code",
   "execution_count": 23,
   "id": "21e69ec5-a6e9-4461-9b5d-b69e054a7aeb",
   "metadata": {},
   "outputs": [],
   "source": [
    "x = np.array([[0, 1],\n",
    "                    [1, 0]])\n",
    "y = np.array([[0, -1j],\n",
    "                    [1j, 0]])\n",
    "z = np.array([[1, 0],\n",
    "                    [0, -1]])\n",
    "h = (1 / cmath.sqrt(2)) * np.array([[1, 1],\n",
    "                                           [1, -1]])\n",
    "s = np.array([[1, 0],\n",
    "                  [0, 1j]])"
   ]
  },
  {
   "cell_type": "code",
   "execution_count": 27,
   "id": "7dc59d2f-f356-4312-8166-21ef5c24aa5f",
   "metadata": {},
   "outputs": [
    {
     "name": "stdout",
     "output_type": "stream",
     "text": [
      "[1 0]\n",
      "[0 1]\n"
     ]
    }
   ],
   "source": [
    "zero = np.array([1,0])\n",
    "one = np.array([0,1])\n",
    "print(zero)\n",
    "print(one)"
   ]
  },
  {
   "cell_type": "code",
   "execution_count": 16,
   "id": "7eb3b8bd-77a1-43c0-bdb1-2f843a55603b",
   "metadata": {},
   "outputs": [
    {
     "name": "stdout",
     "output_type": "stream",
     "text": [
      "[0 1]\n",
      "[1 0]\n"
     ]
    }
   ],
   "source": [
    "print(x.dot(zero))\n",
    "print(x.dot(one))"
   ]
  },
  {
   "cell_type": "code",
   "execution_count": 17,
   "id": "31f03a5f-4111-4c7a-b359-f41db6427bc9",
   "metadata": {},
   "outputs": [
    {
     "name": "stdout",
     "output_type": "stream",
     "text": [
      "[0.+0.j 0.+1.j]\n",
      "[0.-1.j 0.+0.j]\n"
     ]
    }
   ],
   "source": [
    "print(y.dot(zero))\n",
    "print(y.dot(one))"
   ]
  },
  {
   "cell_type": "code",
   "execution_count": 18,
   "id": "957764fa-f080-4837-ba9f-472b717593d6",
   "metadata": {},
   "outputs": [
    {
     "name": "stdout",
     "output_type": "stream",
     "text": [
      "[1 0]\n",
      "[ 0 -1]\n"
     ]
    }
   ],
   "source": [
    "print(z.dot(zero))\n",
    "print(z.dot(one))"
   ]
  },
  {
   "cell_type": "code",
   "execution_count": 19,
   "id": "c267d265-7b8b-4c43-96ad-f8d2faa0bb16",
   "metadata": {},
   "outputs": [
    {
     "name": "stdout",
     "output_type": "stream",
     "text": [
      "[0.70710678+0.j 0.70710678+0.j]\n",
      "[ 0.70710678+0.j -0.70710678+0.j]\n"
     ]
    }
   ],
   "source": [
    "print(h.dot(zero))\n",
    "print(h.dot(one))"
   ]
  },
  {
   "cell_type": "code",
   "execution_count": 20,
   "id": "6814bb16-903b-49f4-b630-79c2d59b390d",
   "metadata": {},
   "outputs": [
    {
     "name": "stdout",
     "output_type": "stream",
     "text": [
      "[1.+0.j 0.+0.j]\n",
      "[0.+0.j 0.+1.j]\n"
     ]
    }
   ],
   "source": [
    "print(s.dot(zero))\n",
    "print(s.dot(one))"
   ]
  },
  {
   "cell_type": "code",
   "execution_count": 62,
   "id": "38a6b795-4856-49f5-810c-99c48b1f70e4",
   "metadata": {},
   "outputs": [],
   "source": [
    "###################################################################################################\n",
    "##### Example 2 ###################################################################################\n",
    "###################################################################################################\n",
    "from qiskit import QuantumCircuit, Aer\n",
    "from qiskit.visualization import plot_histogram, plot_bloch_vector\n",
    "from math import sqrt, pi, log2\n",
    "import os"
   ]
  },
  {
   "cell_type": "code",
   "execution_count": 63,
   "id": "ff9e0479-d59a-4a0f-94fd-0fc9071ecd33",
   "metadata": {},
   "outputs": [],
   "source": [
    "# Define a function to map from statevector to dictionary\n",
    "def statevector_to_dict(sv):\n",
    "    bit_mask = f\"0{int(log2(len(sv)))}b\"\n",
    "    return {format(i, bit_mask): v.real for i, v in enumerate(sv)} "
   ]
  },
  {
   "cell_type": "code",
   "execution_count": 64,
   "id": "ff3a7258-f850-4bae-9aee-1762d8664ffa",
   "metadata": {},
   "outputs": [],
   "source": [
    "# Define quantum circuit and some initial statevectors\n",
    "Q_circuit = QuantumCircuit(1)  # Create a quantum circuit with one qubit\n",
    "initial_state0 = [0, 1]   # Define initial_state as |1>\n",
    "initial_state1 = [1, 0]   # Define initial_state as |0>\n",
    "initial_state2 = [1/sqrt(2), 1/sqrt(2)]"
   ]
  },
  {
   "cell_type": "code",
   "execution_count": 65,
   "id": "1c3d45a6-cdd4-4457-8018-e31756d38655",
   "metadata": {},
   "outputs": [
    {
     "name": "stderr",
     "output_type": "stream",
     "text": [
      "/home/bcb/qic/.venv/lib/python3.9/site-packages/qiskit/visualization/circuit/matplotlib.py:266: FutureWarning: The default matplotlib drawer scheme will be changed to \"iqp\" in a following release. To silence this warning, specify the current default explicitly as style=\"clifford\", or the new default as style=\"iqp\".\n",
      "  self._style, def_font_ratio = load_style(self._style)\n"
     ]
    },
    {
     "data": {
      "image/png": "[encoded data removed]",
      "text/plain": [
       "<Figure size 269.064x117.056 with 1 Axes>"
      ]
     },
     "execution_count": 65,
     "metadata": {},
     "output_type": "execute_result"
    }
   ],
   "source": [
    "# Apply initialisation operation to the 0th qubit\n",
    "Q_circuit.initialize(initial_state2, 0)\n",
    "Q_circuit.draw('mpl')"
   ]
  },
  {
   "cell_type": "code",
   "execution_count": 66,
   "id": "39cb2984-a1f6-4e82-abe6-1b42fd6e5c7a",
   "metadata": {},
   "outputs": [],
   "source": [
    "# Run the quantum circuit on a statevector simulator backend\n",
    "simulator = Aer.get_backend('statevector_simulator')"
   ]
  },
  {
   "cell_type": "code",
   "execution_count": 67,
   "id": "a28a9e5e-3b3c-4cd7-95b5-45ba0212b6ae",
   "metadata": {},
   "outputs": [
    {
     "name": "stdout",
     "output_type": "stream",
     "text": [
      "Statevector([0.707+0.j, 0.707+0.j],\n",
      "            dims=(2,))\n"
     ]
    }
   ],
   "source": [
    "# Create a Quantum program for execution\n",
    "job = simulator.run(Q_circuit, shots=1000)\n",
    "result = job.result()\n",
    "outputstate = result.get_statevector(Q_circuit, decimals=3)\n",
    "print(outputstate)"
   ]
  },
  {
   "cell_type": "code",
   "execution_count": 68,
   "id": "8c4347ed-6c84-45be-b068-18f47ada6e68",
   "metadata": {},
   "outputs": [
    {
     "data": {
      "image/png": "[encoded data removed]",
      "text/plain": [
       "<Figure size 700x500 with 1 Axes>"
      ]
     },
     "execution_count": 68,
     "metadata": {},
     "output_type": "execute_result"
    }
   ],
   "source": [
    "# Map statevector to dictionary\n",
    "sv_dict = statevector_to_dict(outputstate.data)\n",
    "plot_histogram(sv_dict, legend=None, color=['crimson'], title=\"Histogram\")"
   ]
  },
  {
   "cell_type": "code",
   "execution_count": 81,
   "id": "8f271857-6255-4979-89b0-22195de3c2f3",
   "metadata": {},
   "outputs": [
    {
     "name": "stdout",
     "output_type": "stream",
     "text": [
      "   ┌───┐\n",
      "q: ┤ S ├\n",
      "   └───┘\n"
     ]
    }
   ],
   "source": [
    "# Create a quantum circuit with 1 qubit\n",
    "qc = QuantumCircuit(1)\n",
    "\n",
    "# Apply the Y gate\n",
    "qc.s(0)\n",
    "\n",
    "# To visualize the circuit\n",
    "print(qc.draw())"
   ]
  },
  {
   "cell_type": "code",
   "execution_count": 82,
   "id": "83a98655-23f2-44ea-a445-74ddf2a4fc88",
   "metadata": {},
   "outputs": [
    {
     "data": {
      "image/png": "[encoded data removed]",
      "text/plain": [
       "<Figure size 700x500 with 1 Axes>"
      ]
     },
     "execution_count": 82,
     "metadata": {},
     "output_type": "execute_result"
    }
   ],
   "source": [
    "# Add a measurement to the circuit because we want to simulate a result\n",
    "qc.measure_all()\n",
    "\n",
    "# Execute the circuit on the qasm simulator\n",
    "job = simulator.run(Q_circuit, shots=1)\n",
    "    \n",
    "# Grab results from the job\n",
    "result = job.result()\n",
    "outputstate = result.get_statevector(Q_circuit, decimals=3)\n",
    "sv_dict = statevector_to_dict(outputstate.data)\n",
    "plot_histogram(sv_dict, legend=None, color=['crimson'], title=\"Histogram\")    "
   ]
  },
  {
   "cell_type": "code",
   "execution_count": null,
   "id": "61892732-01d3-44ce-a71a-ad0ba07964a8",
   "metadata": {},
   "outputs": [],
   "source": []
  }
 ],
 "metadata": {
  "kernelspec": {
   "display_name": "Python 3 (ipykernel)",
   "language": "python",
   "name": "python3"
  },
  "language_info": {
   "codemirror_mode": {
    "name": "ipython",
    "version": 3
   },
   "file_extension": ".py",
   "mimetype": "text/x-python",
   "name": "python",
   "nbconvert_exporter": "python",
   "pygments_lexer": "ipython3",
   "version": "3.9.16"
  }
 },
 "nbformat": 4,
 "nbformat_minor": 5
}
